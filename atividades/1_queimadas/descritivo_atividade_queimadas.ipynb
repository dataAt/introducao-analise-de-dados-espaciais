{
 "cells": [
  {
   "cell_type": "markdown",
   "metadata": {},
   "source": [
    "<!--<link rel=\"stylesheet\" type=\"text/css\" href=\"style/style.css\"> -->\n",
    "\n",
    "<img src=\"res/minicurso_fatec.png\" alt=\"logo\">\n",
    "\n",
    "<hr style=\"border: 3px solid #b5b0b0;\">"
   ]
  },
  {
   "cell_type": "markdown",
   "metadata": {},
   "source": [
    "Este material foi criado para auxiliar os alunos dos minicurso de Introdução à análise de dados espaciais a aplicar os principais conceitos vistos durante o minicurso."
   ]
  },
  {
   "cell_type": "markdown",
   "metadata": {},
   "source": [
    "## Monitoramento de queimadas\n",
    "\n",
    "![](res/logo_conjugada_hzt_completa_800x190.png)\n",
    "\n",
    "Realizar o monitoramento de queimadas e incêndios florestais é de extrema importância para o governo e a sociedade brasileira, isto por permitir que os recursos naturais do nosso país possam ser controlados e preservados.\n",
    "\n",
    "Este tipo de atividade acaba sendo um grande desafio, por uma série de fatores, indo desde a seleção das formas de buscar informações sobre os focos de incêndio, até os algoritmos necessário para uma boa identificação de focos de queimadas em um conjunto de dados. Neste contexto, o [Instituto Nacional de Pesquisas Espaciais](http://www.inpe.br/) (INPE) criou o projeto queimadas, que busca, diariamente realizar a identificação dos possíveis focos de incêndio que estão em todo o território"
   ]
  },
  {
   "cell_type": "markdown",
   "metadata": {},
   "source": [
    "## Atividades propostas\n",
    "\n",
    "Dentro deste contexto, utilizando os dados disponibilizados pelo INPE são propostas as seguintes perguntas a serem respondidas através da análise de tais dados.\n",
    "\n",
    "- 1° - Em qual estado há mais focos de incêndio ?\n",
    "- 2° - Qual dos meses teve a maior quantidade de registros ?\n",
    "- 3° - Liste os estados que pertencem a Amazônia legal e suas quantidades de focos de incêndio;\n",
    "- 4° - Estados com maior extensão, tendem a ter mais focos de incêndio ?\n",
    "- 5° - Existem áreas de preservação com alertas de focos de incêndio ?\n",
    "\n",
    "Estas são apenas ideias base para você iniciar a análise de seus dados, pode ser que, durante suas análises você pense em  outros pontos que podem ser explorados, o que é muito bom!"
   ]
  },
  {
   "cell_type": "markdown",
   "metadata": {},
   "source": [
    "## Sobre os dados\n",
    "\n",
    "Os dados disponibilizados para a realização desta atividade podem ser encontrados no diretório `dados`, junto a esta atividade, há também alguns auxiliares que podem ser consumidos para responder as questões acima. \n",
    "\n",
    "Todos os dados disponibilizados aqui foram retirados diretamente do portal [TerraBrasilis](http://terrabrasilis.dpi.inpe.br/) do INPE, que tem por objetivo a disponibilização facilitada dos variados produtos gerados pelo instituto.\n",
    "\n",
    "Links extras\n",
    "\n",
    "- [FAQ - Projeto Queimadas](http://queimadas.dgi.inpe.br/queimadas/portal/informacoes/perguntas-frequentes)\n",
    "- [Metadados - Descrição dos dados de queimadas](http://queimadas.dgi.inpe.br/queimadas/portal/informacoes/perguntas-frequentes#p40)\n"
   ]
  }
 ],
 "metadata": {
  "kernelspec": {
   "display_name": "Python 3",
   "language": "python",
   "name": "python3"
  },
  "language_info": {
   "codemirror_mode": {
    "name": "ipython",
    "version": 3
   },
   "file_extension": ".py",
   "mimetype": "text/x-python",
   "name": "python",
   "nbconvert_exporter": "python",
   "pygments_lexer": "ipython3",
   "version": "3.7.3"
  }
 },
 "nbformat": 4,
 "nbformat_minor": 2
}
